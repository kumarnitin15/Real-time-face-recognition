{
 "cells": [
  {
   "cell_type": "code",
   "execution_count": 1,
   "metadata": {
    "collapsed": true
   },
   "outputs": [],
   "source": [
    "import numpy as np\n",
    "import cv2\n",
    "import os\n",
    "import math as mt"
   ]
  },
  {
   "cell_type": "code",
   "execution_count": 9,
   "metadata": {
    "collapsed": true
   },
   "outputs": [],
   "source": [
    "face_cascade = cv2.CascadeClassifier('haarcascade_frontalface_default.xml')"
   ]
  },
  {
   "cell_type": "code",
   "execution_count": 3,
   "metadata": {
    "collapsed": true
   },
   "outputs": [],
   "source": [
    "usernames = []"
   ]
  },
  {
   "cell_type": "code",
   "execution_count": 4,
   "metadata": {
    "collapsed": true
   },
   "outputs": [],
   "source": [
    "def getkey(item):\n",
    "    return item[0]\n",
    "\n",
    "def distance(x1, x2):\n",
    "    d0, d1, d2 = 0, 0, 0\n",
    "    for i in range(len(x1)):\n",
    "        for j in range(len(x1[i])):\n",
    "            d0 += (int(x1[i][j][0])-int(x2[i][j][0]))**2\n",
    "            d1 += (int(x1[i][j][1])-int(x2[i][j][1]))**2\n",
    "            d2 += (int(x1[i][j][2])-int(x2[i][j][2]))**2\n",
    "    d = d0 + d1 + d2\n",
    "    return d\n",
    "\n",
    "def KNN(x, k):\n",
    "    d = []\n",
    "    y_train = []\n",
    "    for file in os.listdir('photos'):\n",
    "        for photo in os.listdir('photos/' + file):\n",
    "            img = cv2.imread('photos/' + file + '/' + photo)\n",
    "            y_train.append(int(file))\n",
    "            d.append([distance(x, img), int(file)])\n",
    "    d = sorted(d, key = getkey)\n",
    "    num_of_classes = len(np.unique(y_train))\n",
    "    nearest_neighbours = [d[i][1] for i in range(k)]\n",
    "    output = 0\n",
    "    max_count = nearest_neighbours.count(0)\n",
    "    for i in range(1, num_of_classes):\n",
    "        c = nearest_neighbours.count(i)\n",
    "        if c > max_count:\n",
    "            max_count = c\n",
    "            output = i\n",
    "    return output"
   ]
  },
  {
   "cell_type": "code",
   "execution_count": 5,
   "metadata": {
    "collapsed": true
   },
   "outputs": [],
   "source": [
    "def create_new_user(photos, username):\n",
    "    # Make a new folder for the user\n",
    "    os.makedirs('photos/' + str(len(usernames)))\n",
    "    # Add all the photos in the newly created folder\n",
    "    for i in range(len(photos)):\n",
    "        cv2.imwrite('photos/' + str(len(usernames)) + '/' + str(i) + '.jpg', photos[i])\n",
    "    usernames.append(username)\n",
    "    \n",
    "\n",
    "def register():\n",
    "    # Take the username of the new user\n",
    "    flag = False\n",
    "    print(\"Enter your name\")\n",
    "    while flag == False:\n",
    "        username = input()\n",
    "        if username in usernames:\n",
    "            print(\"Username already taken, try another one\")\n",
    "        else:\n",
    "            flag = True\n",
    "    # click photos for the training set\n",
    "    photos = []\n",
    "    cap = cv2.VideoCapture(0)\n",
    "    num_of_photos = 0\n",
    "    while num_of_photos < 25:\n",
    "        ret, frame = cap.read()\n",
    "        if ret == False:\n",
    "            continue\n",
    "        gray_frame = cv2.cvtColor(frame, cv2.COLOR_BGR2GRAY)\n",
    "        faces = face_cascade.detectMultiScale(gray_frame, 1.3, 5)\n",
    "        for (x,y,w,h) in faces:\n",
    "            cv2.rectangle(frame,(x,y),(x+w,y+h),(55,35,100),6)\n",
    "            roi = frame[y:y+h, x:x+w]\n",
    "        cv2.imshow('video', frame)\n",
    "        k = cv2.waitKey(1) & 0xFF\n",
    "        if k == ord('c'):\n",
    "            if len(faces) != 1:\n",
    "                print(\"Only one face\")\n",
    "                continue\n",
    "            photos.append(cv2.resize(roi, (150, 150)))\n",
    "            num_of_photos += 1\n",
    "            print(num_of_photos)\n",
    "        elif k == ord('q'):\n",
    "            break\n",
    "    cap.release()\n",
    "    cv2.destroyAllWindows()\n",
    "    if num_of_photos == 25:\n",
    "        create_new_user(photos, username)\n",
    "    else:\n",
    "        print(\"Try again, not enough photos were clicked!\")"
   ]
  },
  {
   "cell_type": "code",
   "execution_count": 6,
   "metadata": {
    "collapsed": true
   },
   "outputs": [],
   "source": [
    "def login():\n",
    "    photo_clicked = False\n",
    "    cap = cv2.VideoCapture(0)\n",
    "    counter = 0\n",
    "    while True:\n",
    "        ret, frame = cap.read()\n",
    "        if ret == False:\n",
    "            continue\n",
    "        gray_frame = cv2.cvtColor(frame, cv2.COLOR_BGR2GRAY)\n",
    "        faces = face_cascade.detectMultiScale(gray_frame, 1.3, 5)\n",
    "        for (x,y,w,h) in faces:\n",
    "            roi = frame[y:y+h, x:x+w]\n",
    "            cv2.rectangle(frame,(x,y),(x+w,y+h),(55,35,100),6)\n",
    "        cv2.imshow('video', frame)\n",
    "        k = cv2.waitKey(1) & 0xFF\n",
    "        if k == ord('c'):\n",
    "            if len(faces) != 1:\n",
    "                print(\"Only one face!\")\n",
    "                continue\n",
    "            photo_clicked = True\n",
    "            break\n",
    "        if k == ord('q'):\n",
    "            break\n",
    "    cap.release()\n",
    "    cv2.destroyAllWindows()\n",
    "    if photo_clicked == False:\n",
    "        print(\"You need to click a photo to authenticate!\")\n",
    "    else:\n",
    "        ROI = cv2.resize(roi, (150,150))\n",
    "        k = 15\n",
    "        match = usernames[KNN(ROI, k)]\n",
    "        print(\"Hi\", match)"
   ]
  },
  {
   "cell_type": "code",
   "execution_count": 16,
   "metadata": {},
   "outputs": [
    {
     "name": "stdout",
     "output_type": "stream",
     "text": [
      "Enter your name\n",
      "nitin kumar\n",
      "1\n",
      "2\n",
      "3\n",
      "4\n",
      "5\n",
      "6\n",
      "7\n",
      "8\n",
      "9\n",
      "10\n",
      "11\n",
      "12\n",
      "13\n",
      "14\n",
      "15\n",
      "16\n",
      "17\n",
      "18\n",
      "19\n",
      "20\n",
      "21\n",
      "22\n",
      "23\n",
      "24\n",
      "25\n"
     ]
    }
   ],
   "source": [
    "register()"
   ]
  },
  {
   "cell_type": "code",
   "execution_count": 8,
   "metadata": {},
   "outputs": [
    {
     "name": "stdout",
     "output_type": "stream",
     "text": [
      "Hi Nitin Kumar\n"
     ]
    }
   ],
   "source": [
    "login()"
   ]
  }
 ],
 "metadata": {
  "kernelspec": {
   "display_name": "Python 3",
   "language": "python",
   "name": "python3"
  },
  "language_info": {
   "codemirror_mode": {
    "name": "ipython",
    "version": 3
   },
   "file_extension": ".py",
   "mimetype": "text/x-python",
   "name": "python",
   "nbconvert_exporter": "python",
   "pygments_lexer": "ipython3",
   "version": "3.6.3"
  }
 },
 "nbformat": 4,
 "nbformat_minor": 2
}
