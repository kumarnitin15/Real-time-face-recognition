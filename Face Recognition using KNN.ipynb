{
 "cells": [
  {
   "cell_type": "code",
   "execution_count": 24,
   "metadata": {
    "collapsed": true
   },
   "outputs": [],
   "source": [
    "import cv2\n",
    "import numpy as np\n",
    "import os"
   ]
  },
  {
   "cell_type": "markdown",
   "metadata": {},
   "source": [
    "## Initializing haar cascade face detector"
   ]
  },
  {
   "cell_type": "code",
   "execution_count": 5,
   "metadata": {
    "collapsed": true
   },
   "outputs": [],
   "source": [
    "face_cascade = cv2.CascadeClassifier('haarcascade_frontalface_default.xml')"
   ]
  },
  {
   "cell_type": "markdown",
   "metadata": {},
   "source": [
    "## KNN classifier"
   ]
  },
  {
   "cell_type": "code",
   "execution_count": 20,
   "metadata": {
    "collapsed": true
   },
   "outputs": [],
   "source": [
    "def dist(x1,x2):\n",
    "    return np.sqrt(np.sum((x1-x2)**2))\n",
    "\n",
    "def knn(X,Y,queryPoint,k=5):\n",
    "    \n",
    "    vals = []\n",
    "    m = X.shape[0]\n",
    "    \n",
    "    for i in range(m):\n",
    "        d = dist(queryPoint,X[i])\n",
    "        vals.append((d,Y[i]))\n",
    "        \n",
    "    vals = sorted(vals)\n",
    "    \n",
    "    # Nearest/first k points\n",
    "    vals = vals[:k]\n",
    "    \n",
    "    vals = np.array(vals)\n",
    "    \n",
    "    new_vals = np.unique(vals[:,1],return_counts=True)\n",
    "    \n",
    "    index = new_vals[1].argmax()\n",
    "    pred = new_vals[0][index]\n",
    "    \n",
    "    return pred"
   ]
  },
  {
   "cell_type": "markdown",
   "metadata": {},
   "source": [
    "## Function to collect and prepare the training data real time"
   ]
  },
  {
   "cell_type": "code",
   "execution_count": 39,
   "metadata": {},
   "outputs": [],
   "source": [
    "def train():\n",
    "    \n",
    "    cap = cv2.VideoCapture(0)\n",
    "    skip = 0\n",
    "    photos_clicked = []\n",
    "    \n",
    "    dataset_path = './photos/'\n",
    "    file_name = input(\"Enter your name: \")\n",
    "    \n",
    "    while True:\n",
    "        \n",
    "        skip += 1\n",
    "        \n",
    "        ret,frame = cap.read()\n",
    "        \n",
    "        if ret == False:\n",
    "            continue\n",
    "        \n",
    "        gray_frame = cv2.cvtColor(frame, cv2.COLOR_BGR2GRAY)\n",
    "        \n",
    "        faces = face_cascade.detectMultiScale(frame,1.3,5)\n",
    "        faces = sorted(faces,key=lambda f:f[2]*f[3])\n",
    "    \n",
    "        # Pick the last face as it will be the largest\n",
    "        for face in faces[-1:]:\n",
    "            x,y,w,h = face\n",
    "            cv2.rectangle(frame,(x,y),(x+w,y+h),(0,255,255),2)\n",
    "        \n",
    "            # Extract the region of interest\n",
    "            offset = 10\n",
    "            face_section = gray_frame[y-offset:y+h+offset,x-offset:x+w+offset]\n",
    "            face_section = cv2.resize(face_section,(100,100))\n",
    "        \n",
    "            if skip%10 == 0:\n",
    "                photos_clicked.append(face_section)\n",
    "                print(len(photos_clicked))\n",
    "    \n",
    "        cv2.imshow(\"Frame\",frame)\n",
    "    \n",
    "        key_pressed = cv2.waitKey(1) & 0xFF\n",
    "        if key_pressed == ord('q'):\n",
    "            break\n",
    "            \n",
    "    # Convert our face list array to a numpy array\n",
    "    photos_clicked = np.asarray(photos_clicked)\n",
    "    photos_clicked = photos_clicked.reshape((photos_clicked.shape[0],-1))\n",
    "    print(photos_clicked.shape)\n",
    "\n",
    "    # Save this data to the file system\n",
    "    np.save(dataset_path+file_name+'.npy',photos_clicked)\n",
    "    print(\"Images saved successfully!\")\n",
    "    \n",
    "    cap.release()\n",
    "    cv2.destroyAllWindows()"
   ]
  },
  {
   "cell_type": "markdown",
   "metadata": {},
   "source": [
    "## Function to test the classifier"
   ]
  },
  {
   "cell_type": "code",
   "execution_count": 74,
   "metadata": {},
   "outputs": [],
   "source": [
    "def test():\n",
    "    \n",
    "    cap = cv2.VideoCapture(0)\n",
    "    \n",
    "    print(\"Press 'c' to click a photo\")\n",
    "    \n",
    "    dataset_path = './photos/'\n",
    "\n",
    "    face_data = []\n",
    "    labels = []\n",
    "\n",
    "    class_id = 0 # Labels for the given file\n",
    "    names = {} # Mapping between id - name\n",
    "\n",
    "    # Data preparation\n",
    "\n",
    "    for fx in os.listdir(dataset_path):\n",
    "        if fx.endswith('.npy'):\n",
    "        \n",
    "            data_item = np.load(dataset_path+fx)\n",
    "            # print(\"Loaded \"+fx)\n",
    "            face_data.append(data_item)\n",
    "        \n",
    "            # Create labels for the class\n",
    "            target = class_id*np.ones((data_item.shape[0],))\n",
    "            labels.append(target)\n",
    "            names[class_id] = fx[:-4]\n",
    "            class_id += 1\n",
    "        \n",
    "    face_data = np.concatenate(face_data,axis=0)\n",
    "    labels = np.concatenate(labels,axis=0)\n",
    "    \n",
    "    test_point = np.zeros((100,100))\n",
    "    \n",
    "    while True:\n",
    "        \n",
    "        ret,frame = cap.read()\n",
    "        \n",
    "        if ret == False:\n",
    "            continue\n",
    "        \n",
    "        gray_frame = cv2.cvtColor(frame, cv2.COLOR_BGR2GRAY)\n",
    "        \n",
    "        faces = face_cascade.detectMultiScale(frame,1.3,5)\n",
    "        faces = sorted(faces,key=lambda f:f[2]*f[3])\n",
    "    \n",
    "        # Pick the last face as it will be the largest\n",
    "        for face in faces[-1:]:\n",
    "            x,y,w,h = face\n",
    "            cv2.rectangle(frame,(x,y),(x+w,y+h),(0,255,255),2)\n",
    "        \n",
    "            # Extract the region of interest\n",
    "            offset = 10\n",
    "            face_section = gray_frame[y-offset:y+h+offset,x-offset:x+w+offset]\n",
    "            test_point = cv2.resize(face_section,(100,100))\n",
    "    \n",
    "        cv2.imshow(\"Frame\",frame)\n",
    "    \n",
    "        key_pressed = cv2.waitKey(1) & 0xFF\n",
    "        \n",
    "        if key_pressed == ord('c'):\n",
    "            y = test_point.reshape((-1,))\n",
    "            label = knn(face_data,labels,y)\n",
    "            print(\"Hello \"+names[int(label)])\n",
    "            break\n",
    "        \n",
    "        if key_pressed == ord('q'):\n",
    "            break\n",
    "        \n",
    "    cap.release()\n",
    "    cv2.destroyAllWindows()"
   ]
  }
 ],
 "metadata": {
  "kernelspec": {
   "display_name": "Python 3",
   "language": "python",
   "name": "python3"
  },
  "language_info": {
   "codemirror_mode": {
    "name": "ipython",
    "version": 3
   },
   "file_extension": ".py",
   "mimetype": "text/x-python",
   "name": "python",
   "nbconvert_exporter": "python",
   "pygments_lexer": "ipython3",
   "version": "3.6.3"
  }
 },
 "nbformat": 4,
 "nbformat_minor": 2
}
